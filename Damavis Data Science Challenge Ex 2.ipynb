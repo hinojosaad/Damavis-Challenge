{
 "cells": [
  {
   "cell_type": "markdown",
   "id": "0bda20ab",
   "metadata": {},
   "source": [
    "# Problem 2: Demand Estimation\n",
    "\n",
    "The sales of two companies, Company 1 and Company 2, in two regions,\n",
    "Region 1 and Region 2, are provided here. The description of the only three columns\n",
    "are:\n",
    "\n",
    "    ● Sales_U → Sales in equivalent units (lbs)\n",
    "    ● Sales_USD → Sales in \\$\n",
    "    ● date → starting date for the week\n"
   ]
  },
  {
   "cell_type": "markdown",
   "id": "6a24567c",
   "metadata": {},
   "source": [
    "● Construct time-series plots of sales and prices for Company 1 in Region 1 and 2. Repeat the exercise for Company 2. Describe the differences or similarities between Company 1 and 2 pricing policies."
   ]
  },
  {
   "cell_type": "code",
   "execution_count": null,
   "id": "70c6f5e3",
   "metadata": {},
   "outputs": [],
   "source": []
  }
 ],
 "metadata": {
  "kernelspec": {
   "display_name": "Python 3 (ipykernel)",
   "language": "python",
   "name": "python3"
  },
  "language_info": {
   "codemirror_mode": {
    "name": "ipython",
    "version": 3
   },
   "file_extension": ".py",
   "mimetype": "text/x-python",
   "name": "python",
   "nbconvert_exporter": "python",
   "pygments_lexer": "ipython3",
   "version": "3.8.11"
  }
 },
 "nbformat": 4,
 "nbformat_minor": 5
}
