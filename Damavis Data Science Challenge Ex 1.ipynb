{
 "cells": [
  {
   "cell_type": "code",
   "execution_count": 1,
   "id": "d1573bec",
   "metadata": {},
   "outputs": [],
   "source": [
    "from itertools import permutations\n",
    "from math import factorial"
   ]
  },
  {
   "cell_type": "markdown",
   "id": "1068465a",
   "metadata": {},
   "source": [
    "# Problem 1: Programming\n",
    "\n",
    "Consider a box with three balls, each with a different value: ball A is worth 2\n",
    "points, ball B is worth 3 points and ball C is worth 4 points. Write a function that\n",
    "calculates the number of different ways of reaching a total sum of N points by\n",
    "extracting from the box one ball at a time, taking into account the order in which the\n",
    "balls are drawn.\n",
    "\n",
    "For example, for N=6 you have 4 different possibilities:\n",
    "\n",
    "    ● Taking ball B twice in a row → 3 + 3 = 6 points\n",
    "    ● Taking ball A three times in a row → 2 + 2 + 2 = 6 points\n",
    "    ● Taking ball A, then ball C → 2 + 4 = 6 points\n",
    "    ● Taking ball C, then ball A → 4 + 2 = 6 points\n",
    "\n",
    "Your function must receive the target number of points N as a parameter and\n",
    "return the number of different ways of getting to that number. Make the function as\n",
    "efficient as possible and discuss its computational complexity."
   ]
  },
  {
   "cell_type": "markdown",
   "id": "f54efa97",
   "metadata": {},
   "source": [
    "## Solution\n",
    "\n",
    "For solving the proposed problem we have to find all the solutions to the linear diophantine equation \n",
    "\n",
    "$$2a+3b+3c = N , (a,b,c)\\in \\mathbb N^3, $$ \n",
    "\n",
    "and then for each solution compute all the possible ways of ordering the balls. \n",
    "\n",
    "We present the solution in three steps:"
   ]
  },
  {
   "cell_type": "markdown",
   "id": "7eb3d6c2",
   "metadata": {},
   "source": [
    "### Step 1\n",
    "\n",
    "We define a function __diof__ that finds all the solutions to the equation \n",
    "\n",
    "$$2a+3b+4c = N , (a,b,c)\\in \\mathbb N^3. $$\n",
    "\n",
    "For that porpouse we observe that if $(a,b,c)$ is a solution by elementary computations $ 2a, 3b , 4c \\leq N $ implying that  the  first coefficient is upperly bounded by $N/2$, the second by $N/3$ and the fourth by $N/4$.\n",
    "\n",
    "The function will compute the quantity $2a+3b+4c$ in the proposed intervals and check if the equation is satisfied, all the possible solutions will be added on a tuple and finally returned on a list."
   ]
  },
  {
   "cell_type": "code",
   "execution_count": 6,
   "id": "ac5e1d42",
   "metadata": {},
   "outputs": [],
   "source": [
    "def diof(N):\n",
    "    \n",
    "    sol =[]\n",
    "\n",
    "    for a in range(N // 2+1):\n",
    "        for b in range(N // 3+1):\n",
    "            for c in range (N // 4+1):\n",
    "                if 2*a + 3*b + 4*c == N:\n",
    "                    sol.append((a,b,c))\n",
    "    \n",
    "    return sol"
   ]
  },
  {
   "cell_type": "markdown",
   "id": "634aea15",
   "metadata": {},
   "source": [
    "As an example we compute the solutions for the equation $$2a+3b+4c = 10 , (a,b,c)\\in \\mathbb N^3. $$"
   ]
  },
  {
   "cell_type": "code",
   "execution_count": 8,
   "id": "9b7ec202",
   "metadata": {},
   "outputs": [
    {
     "data": {
      "text/plain": [
       "[(0, 2, 1), (1, 0, 2), (2, 2, 0), (3, 0, 1), (5, 0, 0)]"
      ]
     },
     "execution_count": 8,
     "metadata": {},
     "output_type": "execute_result"
    }
   ],
   "source": [
    "diof(10)"
   ]
  },
  {
   "cell_type": "markdown",
   "id": "1f1a8957",
   "metadata": {},
   "source": [
    "Implying that $2\\cdot3+4\\cdot1$, $2\\cdot 1+4\\cdot2$, $2\\cdot2+3\\cdot 2$, $2\\cdot3+4\\cdot1$ and $2\\cdot5$ are all the solutions of the example."
   ]
  },
  {
   "cell_type": "markdown",
   "id": "172dfeaf",
   "metadata": {},
   "source": [
    "###Step 3"
   ]
  },
  {
   "cell_type": "code",
   "execution_count": 4,
   "id": "6fb2d129",
   "metadata": {},
   "outputs": [],
   "source": [
    "def perm(t):\n",
    "    balls = t[0]*\"A\"+t[1]*\"B\"+t[2]*\"C\"    \n",
    "    return list(permutations(balls,t[0]+t[1]+t[2]))"
   ]
  },
  {
   "cell_type": "code",
   "execution_count": 5,
   "id": "a77dfdfe",
   "metadata": {},
   "outputs": [
    {
     "data": {
      "text/plain": [
       "[('A', 'B', 'B'),\n",
       " ('A', 'B', 'B'),\n",
       " ('B', 'A', 'B'),\n",
       " ('B', 'B', 'A'),\n",
       " ('B', 'A', 'B'),\n",
       " ('B', 'B', 'A')]"
      ]
     },
     "execution_count": 5,
     "metadata": {},
     "output_type": "execute_result"
    }
   ],
   "source": [
    "perm((1,2,0))"
   ]
  },
  {
   "cell_type": "code",
   "execution_count": null,
   "id": "5cf58ac5",
   "metadata": {},
   "outputs": [],
   "source": []
  },
  {
   "cell_type": "code",
   "execution_count": 6,
   "id": "b7c484ac",
   "metadata": {},
   "outputs": [],
   "source": [
    "comb = lambda t: factorial(t[0]+t[1]+t[2])/(factorial(t[0])*factorial(t[1])*factorial(t[2]))"
   ]
  },
  {
   "cell_type": "code",
   "execution_count": 7,
   "id": "f83a7bed",
   "metadata": {},
   "outputs": [],
   "source": [
    "def f(N):\n",
    "    n = 0\n",
    "    for i in diof(N):\n",
    "        n += comb(i)\n",
    "    return int(n)"
   ]
  },
  {
   "cell_type": "code",
   "execution_count": 8,
   "id": "75452c8f",
   "metadata": {},
   "outputs": [
    {
     "name": "stdout",
     "output_type": "stream",
     "text": [
      "1\n",
      "0\n",
      "1\n",
      "1\n",
      "2\n",
      "2\n",
      "4\n",
      "5\n",
      "8\n",
      "11\n"
     ]
    }
   ],
   "source": [
    "for j in range(10):\n",
    "    print(f(j))"
   ]
  }
 ],
 "metadata": {
  "kernelspec": {
   "display_name": "Python 3 (ipykernel)",
   "language": "python",
   "name": "python3"
  },
  "language_info": {
   "codemirror_mode": {
    "name": "ipython",
    "version": 3
   },
   "file_extension": ".py",
   "mimetype": "text/x-python",
   "name": "python",
   "nbconvert_exporter": "python",
   "pygments_lexer": "ipython3",
   "version": "3.8.11"
  }
 },
 "nbformat": 4,
 "nbformat_minor": 5
}
