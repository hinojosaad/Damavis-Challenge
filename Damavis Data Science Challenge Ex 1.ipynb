{
 "cells": [
  {
   "cell_type": "markdown",
   "id": "1068465a",
   "metadata": {},
   "source": [
    "# Problem 1: Programming\n",
    "\n",
    "Consider a box with three balls, each with a different value: ball A is worth 2\n",
    "points, ball B is worth 3 points and ball C is worth 4 points. Write a function that\n",
    "calculates the number of different ways of reaching a total sum of N points by\n",
    "extracting from the box one ball at a time, taking into account the order in which the\n",
    "balls are drawn.\n",
    "\n",
    "For example, for N=6 you have 4 different possibilities:\n",
    "\n",
    "    ● Taking ball B twice in a row → 3 + 3 = 6 points\n",
    "    ● Taking ball A three times in a row → 2 + 2 + 2 = 6 points\n",
    "    ● Taking ball A, then ball C → 2 + 4 = 6 points\n",
    "    ● Taking ball C, then ball A → 4 + 2 = 6 points\n",
    "\n",
    "Your function must receive the target number of points N as a parameter and\n",
    "return the number of different ways of getting to that number. Make the function as\n",
    "efficient as possible and discuss its computational complexity."
   ]
  },
  {
   "cell_type": "code",
   "execution_count": 1,
   "id": "723d5004",
   "metadata": {},
   "outputs": [],
   "source": [
    "def f(N):\n",
    "    \n",
    "    sol =[]\n",
    "    z = N // 2+1\n",
    "    \n",
    "    for i in range(z):\n",
    "        for j in range(z):\n",
    "            for k in range (z):\n",
    "                if 2*i + 3*j + 4*k == N:\n",
    "                    sol.append((i,j,k))\n",
    "    \n",
    "    return sol"
   ]
  },
  {
   "cell_type": "code",
   "execution_count": 2,
   "id": "3e3a5cad",
   "metadata": {},
   "outputs": [
    {
     "name": "stdout",
     "output_type": "stream",
     "text": [
      "[(0, 0, 0)]\n",
      "[]\n",
      "[(1, 0, 0)]\n",
      "[(0, 1, 0)]\n",
      "[(0, 0, 1), (2, 0, 0)]\n",
      "[(1, 1, 0)]\n",
      "[(0, 2, 0), (1, 0, 1), (3, 0, 0)]\n",
      "[(0, 1, 1), (2, 1, 0)]\n",
      "[(0, 0, 2), (1, 2, 0), (2, 0, 1), (4, 0, 0)]\n",
      "[(0, 3, 0), (1, 1, 1), (3, 1, 0)]\n"
     ]
    }
   ],
   "source": [
    "for j in range(10):\n",
    "    print(f(j))"
   ]
  }
 ],
 "metadata": {
  "kernelspec": {
   "display_name": "Python 3 (ipykernel)",
   "language": "python",
   "name": "python3"
  },
  "language_info": {
   "codemirror_mode": {
    "name": "ipython",
    "version": 3
   },
   "file_extension": ".py",
   "mimetype": "text/x-python",
   "name": "python",
   "nbconvert_exporter": "python",
   "pygments_lexer": "ipython3",
   "version": "3.8.11"
  }
 },
 "nbformat": 4,
 "nbformat_minor": 5
}
