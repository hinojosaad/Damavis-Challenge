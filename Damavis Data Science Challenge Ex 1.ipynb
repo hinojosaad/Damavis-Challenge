{
 "cells": [
  {
   "cell_type": "code",
   "execution_count": null,
   "id": "04df75fe",
   "metadata": {},
   "outputs": [],
   "source": []
  },
  {
   "cell_type": "markdown",
   "id": "1068465a",
   "metadata": {},
   "source": [
    "# Problem 1: Programming\n",
    "\n",
    "Consider a box with three balls, each with a different value: ball A is worth 2\n",
    "points, ball B is worth 3 points and ball C is worth 4 points. Write a function that\n",
    "calculates the number of different ways of reaching a total sum of N points by\n",
    "extracting from the box one ball at a time, taking into account the order in which the\n",
    "balls are drawn.\n",
    "\n",
    "For example, for N=6 you have 4 different possibilities:\n",
    "\n",
    "    ● Taking ball B twice in a row → 3 + 3 = 6 points\n",
    "    ● Taking ball A three times in a row → 2 + 2 + 2 = 6 points\n",
    "    ● Taking ball A, then ball C → 2 + 4 = 6 points\n",
    "    ● Taking ball C, then ball A → 4 + 2 = 6 points\n",
    "\n",
    "Your function must receive the target number of points N as a parameter and\n",
    "return the number of different ways of getting to that number. Make the function as\n",
    "efficient as possible and discuss its computational complexity."
   ]
  },
  {
   "cell_type": "code",
   "execution_count": 10,
   "id": "3d835149",
   "metadata": {},
   "outputs": [
    {
     "name": "stdout",
     "output_type": "stream",
     "text": [
      "Write an entire number:3\n",
      "Taking ball B 1 times in a row\n",
      "\n"
     ]
    }
   ],
   "source": [
    "def f(N):\n",
    "    solution=[]\n",
    "    \n",
    "    if N % 2 == 0:\n",
    "        solution.append(\"Taking ball A \"+str(int(N/2))+\" times in a row\\n\")\n",
    "    if N % 3 == 0:\n",
    "        solution.append(\"Taking ball B \"+str(int(N/3))+\" times in a row\\n\")\n",
    "    if N % 4 == 0:\n",
    "        solution.append(\"Taking ball B \"+str(int(N/4))+\" times in a row\\n\")\n",
    "    \n",
    "    return solution\n",
    "\n",
    "N = int(input('Write an entire number:'))\n",
    "\n",
    "for x in f(N):\n",
    "    print(x)    "
   ]
  },
  {
   "cell_type": "code",
   "execution_count": null,
   "id": "12069796",
   "metadata": {},
   "outputs": [],
   "source": []
  },
  {
   "cell_type": "code",
   "execution_count": null,
   "id": "1a2816f5",
   "metadata": {},
   "outputs": [],
   "source": []
  }
 ],
 "metadata": {
  "kernelspec": {
   "display_name": "Python 3 (ipykernel)",
   "language": "python",
   "name": "python3"
  },
  "language_info": {
   "codemirror_mode": {
    "name": "ipython",
    "version": 3
   },
   "file_extension": ".py",
   "mimetype": "text/x-python",
   "name": "python",
   "nbconvert_exporter": "python",
   "pygments_lexer": "ipython3",
   "version": "3.8.11"
  }
 },
 "nbformat": 4,
 "nbformat_minor": 5
}
