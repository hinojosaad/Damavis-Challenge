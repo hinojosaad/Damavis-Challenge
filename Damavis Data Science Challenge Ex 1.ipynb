{
 "cells": [
  {
   "cell_type": "code",
   "execution_count": 1,
   "id": "d1573bec",
   "metadata": {},
   "outputs": [],
   "source": [
    "from itertools import permutations\n",
    "from math import factorial"
   ]
  },
  {
   "cell_type": "code",
   "execution_count": 2,
   "id": "cfed273d",
   "metadata": {},
   "outputs": [
    {
     "data": {
      "text/html": [
       "<details>\n",
       "<summary>Click to view session information</summary>\n",
       "<pre>\n",
       "-----\n",
       "session_info        1.0.0\n",
       "-----\n",
       "</pre>\n",
       "<details>\n",
       "<summary>Click to view modules imported as dependencies</summary>\n",
       "<pre>\n",
       "asttokens                   NA\n",
       "backcall                    0.2.0\n",
       "colorama                    0.4.5\n",
       "cython_runtime              NA\n",
       "dateutil                    2.8.2\n",
       "debugpy                     1.5.1\n",
       "decorator                   5.1.1\n",
       "entrypoints                 0.4\n",
       "executing                   0.8.3\n",
       "google                      NA\n",
       "importlib_metadata          NA\n",
       "ipykernel                   6.9.1\n",
       "ipython_genutils            0.2.0\n",
       "jedi                        0.17.2\n",
       "jupyter_server              1.18.1\n",
       "mpl_toolkits                NA\n",
       "nt                          NA\n",
       "ntsecuritycon               NA\n",
       "packaging                   21.3\n",
       "parso                       0.7.0\n",
       "pickleshare                 0.7.5\n",
       "pkg_resources               NA\n",
       "prompt_toolkit              3.0.20\n",
       "psutil                      5.9.0\n",
       "pure_eval                   0.2.2\n",
       "pydev_ipython               NA\n",
       "pydevconsole                NA\n",
       "pydevd                      2.6.0\n",
       "pydevd_concurrency_analyser NA\n",
       "pydevd_file_utils           NA\n",
       "pydevd_plugins              NA\n",
       "pydevd_tracing              NA\n",
       "pygments                    2.11.2\n",
       "pythoncom                   NA\n",
       "pywintypes                  NA\n",
       "setuptools                  61.2.0\n",
       "six                         1.16.0\n",
       "sphinxcontrib               NA\n",
       "stack_data                  0.2.0\n",
       "tornado                     6.1\n",
       "traitlets                   5.1.1\n",
       "wcwidth                     0.2.5\n",
       "win32api                    NA\n",
       "win32com                    NA\n",
       "win32security               NA\n",
       "zipp                        NA\n",
       "zmq                         23.2.0\n",
       "zope                        NA\n",
       "</pre>\n",
       "</details> <!-- seems like this ends pre, so might as well be explicit -->\n",
       "<pre>\n",
       "-----\n",
       "IPython             8.4.0\n",
       "jupyter_client      7.2.2\n",
       "jupyter_core        4.10.0\n",
       "jupyterlab          3.4.4\n",
       "notebook            6.4.5\n",
       "-----\n",
       "Python 3.8.11 (default, Aug  6 2021, 09:57:55) [MSC v.1916 64 bit (AMD64)]\n",
       "Windows-10-10.0.22000-SP0\n",
       "-----\n",
       "Session information updated at 2022-09-26 13:30\n",
       "</pre>\n",
       "</details>"
      ],
      "text/plain": [
       "<IPython.core.display.HTML object>"
      ]
     },
     "execution_count": 2,
     "metadata": {},
     "output_type": "execute_result"
    }
   ],
   "source": [
    "import session_info\n",
    "session_info.show()"
   ]
  },
  {
   "cell_type": "markdown",
   "id": "1068465a",
   "metadata": {},
   "source": [
    "# Problem 1: Programming\n",
    "\n",
    "Consider a box with three balls, each with a different value: ball A is worth 2\n",
    "points, ball B is worth 3 points and ball C is worth 4 points. Write a function that\n",
    "calculates the number of different ways of reaching a total sum of N points by\n",
    "extracting from the box one ball at a time, taking into account the order in which the\n",
    "balls are drawn.\n",
    "\n",
    "For example, for N=6 you have 4 different possibilities:\n",
    "\n",
    "    ● Taking ball B twice in a row → 3 + 3 = 6 points\n",
    "    ● Taking ball A three times in a row → 2 + 2 + 2 = 6 points\n",
    "    ● Taking ball A, then ball C → 2 + 4 = 6 points\n",
    "    ● Taking ball C, then ball A → 4 + 2 = 6 points\n",
    "\n",
    "Your function must receive the target number of points N as a parameter and\n",
    "return the number of different ways of getting to that number. Make the function as\n",
    "efficient as possible and discuss its computational complexity."
   ]
  },
  {
   "cell_type": "markdown",
   "id": "abb7ed1f",
   "metadata": {},
   "source": [
    "## Solution\n",
    "\n",
    "For solving the proposed problem we have to find all the solutions to the linear diophantine equation \n",
    "\n",
    "$$2a+3b+3c = N , (a,b,c)\\in \\mathbb N^3, $$ \n",
    "\n",
    "and then for each solution compute all the possible ways of ordering the balls. \n",
    "\n",
    "We present the solution in three steps:"
   ]
  },
  {
   "cell_type": "markdown",
   "id": "acdcbf25",
   "metadata": {},
   "source": [
    "### Step 1\n",
    "\n",
    "We define a function __diof__ that finds all the solutions to the equation \n",
    "\n",
    "$$2a+3b+4c = N , (a,b,c)\\in \\mathbb N^3. $$\n",
    "\n",
    "We observe that if $(a,b,c)$ is a solution by elementary computations $ 2a, 3b , 4c \\leq N $ implying that  $a$ is upperly bounded by $N/2$, $b$ by $N/3$, and $c$ by $N/4$.\n",
    "\n",
    "The function will compute the quantity $2a+3b+4c$ in the found intervals and will check if the equation is satisfied. All the  solutions will be added on a tuple and finally returned in a list."
   ]
  },
  {
   "cell_type": "code",
   "execution_count": 3,
   "id": "e26dd256",
   "metadata": {},
   "outputs": [],
   "source": [
    "def diof(N):\n",
    "    \n",
    "    sol =[]\n",
    "\n",
    "    for a in range(N // 2+1):\n",
    "        for b in range(N // 3+1):\n",
    "            for c in range (N // 4+1):\n",
    "                if 2*a + 3*b + 4*c == N:\n",
    "                    sol.append((a,b,c))\n",
    "    \n",
    "    return sol"
   ]
  },
  {
   "cell_type": "markdown",
   "id": "99ee5fe2",
   "metadata": {},
   "source": [
    "As an example we compute the solutions for the equation $$2a+3b+4c = 10 , (a,b,c)\\in \\mathbb N^3. $$"
   ]
  },
  {
   "cell_type": "code",
   "execution_count": 4,
   "id": "cca9ed60",
   "metadata": {},
   "outputs": [
    {
     "data": {
      "text/plain": [
       "[(0, 2, 1), (1, 0, 2), (2, 2, 0), (3, 0, 1), (5, 0, 0)]"
      ]
     },
     "execution_count": 4,
     "metadata": {},
     "output_type": "execute_result"
    }
   ],
   "source": [
    "diof(10)"
   ]
  },
  {
   "cell_type": "markdown",
   "id": "f5cf6934",
   "metadata": {},
   "source": [
    "Implying that $2\\cdot3+4\\cdot1$, $2\\cdot 1+4\\cdot2$, $2\\cdot2+3\\cdot 2$, $2\\cdot3+4\\cdot1$ and $2\\cdot5$ are the solutions."
   ]
  },
  {
   "cell_type": "markdown",
   "id": "75d4eb8d",
   "metadata": {},
   "source": [
    "### Step 2\n",
    "\n",
    "We define a lambda function __comb__ which recives a tuple (a,b,c) (corresponding to the solution 2a+3b+4c=N) and computes all the possible ways of expressing the sum in different orders according to the values of the balls. It is an elemental combinatorics problem to proof that the number of combinations corresponding to the tuple are given by \n",
    "\n",
    "$$\\binom{a+b+c}{a}\\cdot\\binom{b+c}{b}=\\frac{(a+b+c)!}{a!b!c!} $$"
   ]
  },
  {
   "cell_type": "code",
   "execution_count": 5,
   "id": "b7c484ac",
   "metadata": {},
   "outputs": [],
   "source": [
    "comb = lambda t: int(factorial(t[0]+t[1]+t[2])/(factorial(t[0])*factorial(t[1])*factorial(t[2])))"
   ]
  },
  {
   "cell_type": "markdown",
   "id": "bb46edbe",
   "metadata": {},
   "source": [
    "We compute the number of combinations generated by the tuple $(0,2,1)$ corresponding to the solution $2\\cdot3+ 4\\cdot 1 = 10. $"
   ]
  },
  {
   "cell_type": "code",
   "execution_count": 6,
   "id": "a77dfdfe",
   "metadata": {},
   "outputs": [
    {
     "data": {
      "text/plain": [
       "3"
      ]
     },
     "execution_count": 6,
     "metadata": {},
     "output_type": "execute_result"
    }
   ],
   "source": [
    "comb((0,2,1))"
   ]
  },
  {
   "cell_type": "markdown",
   "id": "0089319f",
   "metadata": {},
   "source": [
    "### Step 3\n",
    "\n",
    "We define the function __f__ which solves the problem by ways of the functions __diof__ and __comb__. __f__ takes all the tuples generated by __diof__ and computes all the possible combinations that can be done by each tuple with __comp__. We arrive to the solution by adding all the possible combinations associated to each tuple. "
   ]
  },
  {
   "cell_type": "code",
   "execution_count": 7,
   "id": "f83a7bed",
   "metadata": {},
   "outputs": [],
   "source": [
    "def f(N):\n",
    "    n = 0\n",
    "    for i in diof(N):\n",
    "        n += comb(i)\n",
    "    return int(n)"
   ]
  },
  {
   "cell_type": "markdown",
   "id": "9eb8dce3",
   "metadata": {},
   "source": [
    "We compute __f__ for N= 0, 1, 2,... 9:"
   ]
  },
  {
   "cell_type": "code",
   "execution_count": 8,
   "id": "75452c8f",
   "metadata": {},
   "outputs": [
    {
     "name": "stdout",
     "output_type": "stream",
     "text": [
      "1\n",
      "0\n",
      "1\n",
      "1\n",
      "2\n",
      "2\n",
      "4\n",
      "5\n",
      "8\n",
      "11\n"
     ]
    }
   ],
   "source": [
    "for j in range(10):\n",
    "    print(f(j))"
   ]
  },
  {
   "cell_type": "markdown",
   "id": "1c3e04dc",
   "metadata": {},
   "source": [
    "## Discussion about the computational complexity"
   ]
  },
  {
   "cell_type": "markdown",
   "id": "265c8c88",
   "metadata": {},
   "source": [
    "__diof__ has a computational complexity of order $O(N^3)$ since it checks the validy of $\\frac{N}{2}\\times\\frac{N}{3}\\times\\frac{N}{4}$ equations. An interesting question to answer is how far is the algorithm of being optimal, research of similar problems have been subject of study in the past. A first step to try to get a more efficent algorithm could be inspired by: https://doi.org/10.1007/s10559-006-0050-2."
   ]
  },
  {
   "cell_type": "markdown",
   "id": "7e8df648",
   "metadata": {},
   "source": [
    "The study of the computional complexity of __comb__ is technically harder and goes besides our knowledge."
   ]
  }
 ],
 "metadata": {
  "kernelspec": {
   "display_name": "Python 3 (ipykernel)",
   "language": "python",
   "name": "python3"
  },
  "language_info": {
   "codemirror_mode": {
    "name": "ipython",
    "version": 3
   },
   "file_extension": ".py",
   "mimetype": "text/x-python",
   "name": "python",
   "nbconvert_exporter": "python",
   "pygments_lexer": "ipython3",
   "version": "3.8.11"
  }
 },
 "nbformat": 4,
 "nbformat_minor": 5
}
